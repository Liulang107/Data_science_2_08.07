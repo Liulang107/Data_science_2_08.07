{
 "cells": [
  {
   "cell_type": "code",
   "execution_count": 1,
   "metadata": {},
   "outputs": [
    {
     "data": {
      "text/html": [
       "        <script type=\"text/javascript\">\n",
       "        window.PlotlyConfig = {MathJaxConfig: 'local'};\n",
       "        if (window.MathJax) {MathJax.Hub.Config({SVG: {font: \"STIX-Web\"}});}\n",
       "        if (typeof require !== 'undefined') {\n",
       "        require.undef(\"plotly\");\n",
       "        requirejs.config({\n",
       "            paths: {\n",
       "                'plotly': ['https://cdn.plot.ly/plotly-latest.min']\n",
       "            }\n",
       "        });\n",
       "        require(['plotly'], function(Plotly) {\n",
       "            window._Plotly = Plotly;\n",
       "        });\n",
       "        }\n",
       "        </script>\n",
       "        "
      ]
     },
     "metadata": {},
     "output_type": "display_data"
    }
   ],
   "source": [
    "import pandas as pd\n",
    "import matplotlib.pyplot as plt\n",
    "\n",
    "import seaborn as sns\n",
    "\n",
    "from plotly.offline import init_notebook_mode, iplot\n",
    "import plotly\n",
    "import plotly.graph_objs as go\n",
    "\n",
    "init_notebook_mode(connected=True)"
   ]
  },
  {
   "cell_type": "code",
   "execution_count": 2,
   "metadata": {},
   "outputs": [],
   "source": [
    "names_by_year = {}\n",
    "\n",
    "for year in range(1880, 2019):\n",
    "    names_by_year[year] = pd.read_csv(\n",
    "        f'/Users/Maria/Downloads/names/yob{year}.txt',\n",
    "        names=['name','sex','number']\n",
    "    )\n",
    "    \n",
    "names = pd.concat(names_by_year).reset_index(level=1, drop=True)"
   ]
  },
  {
   "cell_type": "markdown",
   "metadata": {},
   "source": [
    "**Задача 1.** Построить график изменения количества имен Ruth и Robert с 1900 по 2000"
   ]
  },
  {
   "cell_type": "code",
   "execution_count": 3,
   "metadata": {},
   "outputs": [
    {
     "data": {
      "text/plain": [
       "Text(0, 0.5, 'number')"
      ]
     },
     "execution_count": 3,
     "metadata": {},
     "output_type": "execute_result"
    },
    {
     "data": {
      "image/png": "[encoded data removed]",
      "text/plain": [
       "<Figure size 432x288 with 1 Axes>"
      ]
     },
     "metadata": {
      "needs_background": "light"
     },
     "output_type": "display_data"
    }
   ],
   "source": [
    "names_1 = names.groupby([names.index, 'name']).sum()\n",
    "names_1 = names_1.loc[pd.IndexSlice[1900:2000, ['Ruth', 'Robert']],]\n",
    "names_1 = names_1.unstack('name')\n",
    "names_1.columns = names_1.columns.droplevel(-2)\n",
    "names_1.plot()\n",
    "plt.xlabel('years')\n",
    "plt.ylabel('number')"
   ]
  },
  {
   "cell_type": "code",
   "execution_count": 4,
   "metadata": {},
   "outputs": [
    {
     "data": {
      "application/vnd.plotly.v1+json": {
       "config": {
        "linkText": "Export to plot.ly",
        "plotlyServerURL": "https://plot.ly",
        "showLink": false
       },
       "data": [
        {
         "name": "Robert",
         "type": "scatter",
         "uid": "a928404c-e130-425f-a7cc-594505d4e6df",
         "x": [
          1900,
          1901,
          1902,
          1903,
          1904,
          1905,
          1906,
          1907,
          1908,
          1909,
          1910,
          1911,
          1912,
          1913,
          1914,
          1915,
          1916,
          1917,
          1918,
          1919,
          1920,
          1921,
          1922,
          1923,
          1924,
          1925,
          1926,
          1927,
          1928,
          1929,
          1930,
          1931,
          1932,
          1933,
          1934,
          1935,
          1936,
          1937,
          1938,
          1939,
          1940,
          1941,
          1942,
          1943,
          1944,
          1945,
          1946,
          1947,
          1948,
          1949,
          1950,
          1951,
          1952,
          1953,
          1954,
          1955,
          1956,
          1957,
          1958,
          1959,
          1960,
          1961,
          1962,
          1963,
          1964,
          1965,
          1966,
          1967,
          1968,
          1969,
          1970,
          1971,
          1972,
          1973,
          1974,
          1975,
          1976,
          1977,
          1978,
          1979,
          1980,
          1981,
          1982,
          1983,
          1984,
          1985,
          1986,
          1987,
          1988,
          1989,
          1990,
          1991,
          1992,
          1993,
          1994,
          1995,
          1996,
          1997,
          1998,
          1999,
          2000
         ],
         "y": [
          3845,
          2559,
          3201,
          3057,
          3427,
          3431,
          3651,
          4042,
          4245,
          4588,
          5638,
          6565,
          12900,
          15756,
          21268,
          28854,
          31863,
          35388,
          40798,
          41211,
          48881,
          53028,
          54030,
          56367,
          61100,
          61247,
          61499,
          62080,
          61134,
          60238,
          62574,
          60851,
          59592,
          54491,
          56095,
          56755,
          58713,
          62058,
          62486,
          59854,
          61402,
          64429,
          72046,
          75115,
          71037,
          70135,
          84352,
          91877,
          85683,
          84074,
          83762,
          86561,
          86797,
          86484,
          86490,
          83937,
          84132,
          81972,
          77507,
          74739,
          72631,
          73190,
          70425,
          70267,
          70282,
          63378,
          59581,
          56636,
          58476,
          58660,
          57530,
          50951,
          43325,
          38950,
          37273,
          35579,
          34046,
          34455,
          33650,
          34278,
          34534,
          34634,
          34658,
          33001,
          32003,
          32328,
          31590,
          30448,
          30499,
          30191,
          28983,
          26909,
          24148,
          22514,
          20608,
          18627,
          17710,
          16340,
          15552,
          14563,
          13761
         ]
        },
        {
         "name": "Ruth",
         "type": "scatter",
         "uid": "d4d29108-3f49-40c1-baed-6a21393e59a7",
         "x": [
          1900,
          1901,
          1902,
          1903,
          1904,
          1905,
          1906,
          1907,
          1908,
          1909,
          1910,
          1911,
          1912,
          1913,
          1914,
          1915,
          1916,
          1917,
          1918,
          1919,
          1920,
          1921,
          1922,
          1923,
          1924,
          1925,
          1926,
          1927,
          1928,
          1929,
          1930,
          1931,
          1932,
          1933,
          1934,
          1935,
          1936,
          1937,
          1938,
          1939,
          1940,
          1941,
          1942,
          1943,
          1944,
          1945,
          1946,
          1947,
          1948,
          1949,
          1950,
          1951,
          1952,
          1953,
          1954,
          1955,
          1956,
          1957,
          1958,
          1959,
          1960,
          1961,
          1962,
          1963,
          1964,
          1965,
          1966,
          1967,
          1968,
          1969,
          1970,
          1971,
          1972,
          1973,
          1974,
          1975,
          1976,
          1977,
          1978,
          1979,
          1980,
          1981,
          1982,
          1983,
          1984,
          1985,
          1986,
          1987,
          1988,
          1989,
          1990,
          1991,
          1992,
          1993,
          1994,
          1995,
          1996,
          1997,
          1998,
          1999,
          2000
         ],
         "y": [
          4781,
          3989,
          4401,
          4531,
          4915,
          5088,
          5159,
          5588,
          6200,
          6526,
          7247,
          8032,
          11323,
          12642,
          15885,
          21924,
          23245,
          23618,
          25581,
          24628,
          26156,
          25842,
          23703,
          23700,
          23671,
          22325,
          20296,
          19505,
          17925,
          16089,
          15010,
          13191,
          12330,
          11189,
          10633,
          10041,
          9256,
          9654,
          9345,
          9110,
          8921,
          8902,
          9358,
          9409,
          8707,
          8063,
          8503,
          8506,
          7918,
          7673,
          7138,
          7086,
          6970,
          6588,
          6572,
          6200,
          6089,
          5689,
          5258,
          5064,
          4961,
          4904,
          4314,
          3886,
          3654,
          3242,
          2858,
          2435,
          2156,
          1909,
          1828,
          1640,
          1383,
          1287,
          1304,
          1235,
          1209,
          1198,
          1219,
          1209,
          1262,
          1272,
          1193,
          1135,
          1176,
          1125,
          1096,
          1040,
          1012,
          998,
          913,
          990,
          853,
          865,
          880,
          858,
          801,
          856,
          850,
          871,
          907
         ]
        }
       ],
       "layout": {
        "title": {
         "text": "Some names dynamics"
        }
       }
      },
      "text/html": [
       "<div>\n",
       "        \n",
       "        \n",
       "            <div id=\"19623ee8-99c4-4763-85b9-b0ea491e639d\" class=\"plotly-graph-div\" style=\"height:525px; width:100%;\"></div>\n",
       "            <script type=\"text/javascript\">\n",
       "                require([\"plotly\"], function(Plotly) {\n",
       "                    window.PLOTLYENV=window.PLOTLYENV || {};\n",
       "                    window.PLOTLYENV.BASE_URL='https://plot.ly';\n",
       "                    \n",
       "                if (document.getElementById(\"19623ee8-99c4-4763-85b9-b0ea491e639d\")) {\n",
       "                    Plotly.newPlot(\n",
       "                        '19623ee8-99c4-4763-85b9-b0ea491e639d',\n",
       "                        [{\"name\": \"Robert\", \"type\": \"scatter\", \"uid\": \"a928404c-e130-425f-a7cc-594505d4e6df\", \"x\": [1900, 1901, 1902, 1903, 1904, 1905, 1906, 1907, 1908, 1909, 1910, 1911, 1912, 1913, 1914, 1915, 1916, 1917, 1918, 1919, 1920, 1921, 1922, 1923, 1924, 1925, 1926, 1927, 1928, 1929, 1930, 1931, 1932, 1933, 1934, 1935, 1936, 1937, 1938, 1939, 1940, 1941, 1942, 1943, 1944, 1945, 1946, 1947, 1948, 1949, 1950, 1951, 1952, 1953, 1954, 1955, 1956, 1957, 1958, 1959, 1960, 1961, 1962, 1963, 1964, 1965, 1966, 1967, 1968, 1969, 1970, 1971, 1972, 1973, 1974, 1975, 1976, 1977, 1978, 1979, 1980, 1981, 1982, 1983, 1984, 1985, 1986, 1987, 1988, 1989, 1990, 1991, 1992, 1993, 1994, 1995, 1996, 1997, 1998, 1999, 2000], \"y\": [3845, 2559, 3201, 3057, 3427, 3431, 3651, 4042, 4245, 4588, 5638, 6565, 12900, 15756, 21268, 28854, 31863, 35388, 40798, 41211, 48881, 53028, 54030, 56367, 61100, 61247, 61499, 62080, 61134, 60238, 62574, 60851, 59592, 54491, 56095, 56755, 58713, 62058, 62486, 59854, 61402, 64429, 72046, 75115, 71037, 70135, 84352, 91877, 85683, 84074, 83762, 86561, 86797, 86484, 86490, 83937, 84132, 81972, 77507, 74739, 72631, 73190, 70425, 70267, 70282, 63378, 59581, 56636, 58476, 58660, 57530, 50951, 43325, 38950, 37273, 35579, 34046, 34455, 33650, 34278, 34534, 34634, 34658, 33001, 32003, 32328, 31590, 30448, 30499, 30191, 28983, 26909, 24148, 22514, 20608, 18627, 17710, 16340, 15552, 14563, 13761]}, {\"name\": \"Ruth\", \"type\": \"scatter\", \"uid\": \"d4d29108-3f49-40c1-baed-6a21393e59a7\", \"x\": [1900, 1901, 1902, 1903, 1904, 1905, 1906, 1907, 1908, 1909, 1910, 1911, 1912, 1913, 1914, 1915, 1916, 1917, 1918, 1919, 1920, 1921, 1922, 1923, 1924, 1925, 1926, 1927, 1928, 1929, 1930, 1931, 1932, 1933, 1934, 1935, 1936, 1937, 1938, 1939, 1940, 1941, 1942, 1943, 1944, 1945, 1946, 1947, 1948, 1949, 1950, 1951, 1952, 1953, 1954, 1955, 1956, 1957, 1958, 1959, 1960, 1961, 1962, 1963, 1964, 1965, 1966, 1967, 1968, 1969, 1970, 1971, 1972, 1973, 1974, 1975, 1976, 1977, 1978, 1979, 1980, 1981, 1982, 1983, 1984, 1985, 1986, 1987, 1988, 1989, 1990, 1991, 1992, 1993, 1994, 1995, 1996, 1997, 1998, 1999, 2000], \"y\": [4781, 3989, 4401, 4531, 4915, 5088, 5159, 5588, 6200, 6526, 7247, 8032, 11323, 12642, 15885, 21924, 23245, 23618, 25581, 24628, 26156, 25842, 23703, 23700, 23671, 22325, 20296, 19505, 17925, 16089, 15010, 13191, 12330, 11189, 10633, 10041, 9256, 9654, 9345, 9110, 8921, 8902, 9358, 9409, 8707, 8063, 8503, 8506, 7918, 7673, 7138, 7086, 6970, 6588, 6572, 6200, 6089, 5689, 5258, 5064, 4961, 4904, 4314, 3886, 3654, 3242, 2858, 2435, 2156, 1909, 1828, 1640, 1383, 1287, 1304, 1235, 1209, 1198, 1219, 1209, 1262, 1272, 1193, 1135, 1176, 1125, 1096, 1040, 1012, 998, 913, 990, 853, 865, 880, 858, 801, 856, 850, 871, 907]}],\n",
       "                        {\"title\": {\"text\": \"Some names dynamics\"}},\n",
       "                        {\"showLink\": false, \"linkText\": \"Export to plot.ly\", \"plotlyServerURL\": \"https://plot.ly\", \"responsive\": true}\n",
       "                    ).then(function(){\n",
       "                            \n",
       "var gd = document.getElementById('19623ee8-99c4-4763-85b9-b0ea491e639d');\n",
       "var x = new MutationObserver(function (mutations, observer) {{\n",
       "        var display = window.getComputedStyle(gd).display;\n",
       "        if (!display || display === 'none') {{\n",
       "            console.log([gd, 'removed!']);\n",
       "            Plotly.purge(gd);\n",
       "            observer.disconnect();\n",
       "        }}\n",
       "}});\n",
       "\n",
       "// Listen for the removal of the full notebook cells\n",
       "var notebookContainer = gd.closest('#notebook-container');\n",
       "if (notebookContainer) {{\n",
       "    x.observe(notebookContainer, {childList: true});\n",
       "}}\n",
       "\n",
       "// Listen for the clearing of the current output cell\n",
       "var outputEl = gd.closest('.output');\n",
       "if (outputEl) {{\n",
       "    x.observe(outputEl, {childList: true});\n",
       "}}\n",
       "\n",
       "                        })\n",
       "                };\n",
       "                });\n",
       "            </script>\n",
       "        </div>"
      ]
     },
     "metadata": {},
     "output_type": "display_data"
    }
   ],
   "source": [
    "trace0 = go.Scatter(\n",
    "    x=names_1.index,\n",
    "    y=names_1.Robert,\n",
    "    name='Robert'\n",
    ")\n",
    "\n",
    "trace1 = go.Scatter(\n",
    "    x=names_1.index,\n",
    "    y=names_1.Ruth,\n",
    "    name='Ruth'\n",
    ")\n",
    "  \n",
    "data = [trace0, trace1]\n",
    "layout = {'title': 'Some names dynamics'}\n",
    "\n",
    "fig = go.Figure(data=data, layout=layout)\n",
    "\n",
    "iplot(fig)"
   ]
  },
  {
   "cell_type": "markdown",
   "metadata": {},
   "source": [
    "**Задача 2.** Построить столбчатую диаграмму по количеству их имен с 1900 по 2000 с 5-летними промежутками (1900, 1905, 1910, …, 1995, 2000)."
   ]
  },
  {
   "cell_type": "code",
   "execution_count": 5,
   "metadata": {},
   "outputs": [
    {
     "data": {
      "text/plain": [
       "<matplotlib.axes._subplots.AxesSubplot at 0x1a26cfc0f0>"
      ]
     },
     "execution_count": 5,
     "metadata": {},
     "output_type": "execute_result"
    },
    {
     "data": {
      "image/png": "[encoded data removed]",
      "text/plain": [
       "<Figure size 432x288 with 1 Axes>"
      ]
     },
     "metadata": {
      "needs_background": "light"
     },
     "output_type": "display_data"
    }
   ],
   "source": [
    "names_2 = names_1[0::5]\n",
    "names_2.plot(kind='bar')"
   ]
  },
  {
   "cell_type": "code",
   "execution_count": 6,
   "metadata": {},
   "outputs": [
    {
     "data": {
      "application/vnd.plotly.v1+json": {
       "config": {
        "linkText": "Export to plot.ly",
        "plotlyServerURL": "https://plot.ly",
        "showLink": false
       },
       "data": [
        {
         "name": "Robert",
         "type": "bar",
         "uid": "49128e46-759c-4664-b72f-4aaa97c589f6",
         "x": [
          1900,
          1905,
          1910,
          1915,
          1920,
          1925,
          1930,
          1935,
          1940,
          1945,
          1950,
          1955,
          1960,
          1965,
          1970,
          1975,
          1980,
          1985,
          1990,
          1995,
          2000
         ],
         "y": [
          3845,
          3431,
          5638,
          28854,
          48881,
          61247,
          62574,
          56755,
          61402,
          70135,
          83762,
          83937,
          72631,
          63378,
          57530,
          35579,
          34534,
          32328,
          28983,
          18627,
          13761
         ]
        },
        {
         "name": "Ruth",
         "type": "bar",
         "uid": "f2c36579-0c77-4ccc-b751-4225cf16a347",
         "x": [
          1900,
          1905,
          1910,
          1915,
          1920,
          1925,
          1930,
          1935,
          1940,
          1945,
          1950,
          1955,
          1960,
          1965,
          1970,
          1975,
          1980,
          1985,
          1990,
          1995,
          2000
         ],
         "y": [
          4781,
          5088,
          7247,
          21924,
          26156,
          22325,
          15010,
          10041,
          8921,
          8063,
          7138,
          6200,
          4961,
          3242,
          1828,
          1235,
          1262,
          1125,
          913,
          858,
          907
         ]
        }
       ],
       "layout": {
        "title": {
         "text": "Some names dynamics"
        }
       }
      },
      "text/html": [
       "<div>\n",
       "        \n",
       "        \n",
       "            <div id=\"238da349-4913-4a63-a7fd-7645f0beed69\" class=\"plotly-graph-div\" style=\"height:525px; width:100%;\"></div>\n",
       "            <script type=\"text/javascript\">\n",
       "                require([\"plotly\"], function(Plotly) {\n",
       "                    window.PLOTLYENV=window.PLOTLYENV || {};\n",
       "                    window.PLOTLYENV.BASE_URL='https://plot.ly';\n",
       "                    \n",
       "                if (document.getElementById(\"238da349-4913-4a63-a7fd-7645f0beed69\")) {\n",
       "                    Plotly.newPlot(\n",
       "                        '238da349-4913-4a63-a7fd-7645f0beed69',\n",
       "                        [{\"name\": \"Robert\", \"type\": \"bar\", \"uid\": \"49128e46-759c-4664-b72f-4aaa97c589f6\", \"x\": [1900, 1905, 1910, 1915, 1920, 1925, 1930, 1935, 1940, 1945, 1950, 1955, 1960, 1965, 1970, 1975, 1980, 1985, 1990, 1995, 2000], \"y\": [3845, 3431, 5638, 28854, 48881, 61247, 62574, 56755, 61402, 70135, 83762, 83937, 72631, 63378, 57530, 35579, 34534, 32328, 28983, 18627, 13761]}, {\"name\": \"Ruth\", \"type\": \"bar\", \"uid\": \"f2c36579-0c77-4ccc-b751-4225cf16a347\", \"x\": [1900, 1905, 1910, 1915, 1920, 1925, 1930, 1935, 1940, 1945, 1950, 1955, 1960, 1965, 1970, 1975, 1980, 1985, 1990, 1995, 2000], \"y\": [4781, 5088, 7247, 21924, 26156, 22325, 15010, 10041, 8921, 8063, 7138, 6200, 4961, 3242, 1828, 1235, 1262, 1125, 913, 858, 907]}],\n",
       "                        {\"title\": {\"text\": \"Some names dynamics\"}},\n",
       "                        {\"showLink\": false, \"linkText\": \"Export to plot.ly\", \"plotlyServerURL\": \"https://plot.ly\", \"responsive\": true}\n",
       "                    ).then(function(){\n",
       "                            \n",
       "var gd = document.getElementById('238da349-4913-4a63-a7fd-7645f0beed69');\n",
       "var x = new MutationObserver(function (mutations, observer) {{\n",
       "        var display = window.getComputedStyle(gd).display;\n",
       "        if (!display || display === 'none') {{\n",
       "            console.log([gd, 'removed!']);\n",
       "            Plotly.purge(gd);\n",
       "            observer.disconnect();\n",
       "        }}\n",
       "}});\n",
       "\n",
       "// Listen for the removal of the full notebook cells\n",
       "var notebookContainer = gd.closest('#notebook-container');\n",
       "if (notebookContainer) {{\n",
       "    x.observe(notebookContainer, {childList: true});\n",
       "}}\n",
       "\n",
       "// Listen for the clearing of the current output cell\n",
       "var outputEl = gd.closest('.output');\n",
       "if (outputEl) {{\n",
       "    x.observe(outputEl, {childList: true});\n",
       "}}\n",
       "\n",
       "                        })\n",
       "                };\n",
       "                });\n",
       "            </script>\n",
       "        </div>"
      ]
     },
     "metadata": {},
     "output_type": "display_data"
    }
   ],
   "source": [
    "trace0 = go.Bar(\n",
    "    x=names_2.index,\n",
    "    y=names_2.Robert,\n",
    "    name='Robert'\n",
    ")\n",
    "\n",
    "trace1 = go.Bar(\n",
    "    x=names_2.index,\n",
    "    y=names_2.Ruth,\n",
    "    name='Ruth'\n",
    ")\n",
    "  \n",
    "data = [trace0, trace1]\n",
    "layout = {'title': 'Some names dynamics'}\n",
    "\n",
    "fig = go.Figure(data=data, layout=layout)\n",
    "\n",
    "iplot(fig)"
   ]
  },
  {
   "cell_type": "markdown",
   "metadata": {},
   "source": [
    "**Задача 3.** Построить круговую диаграмму по количеству употреблений для ТОП-10 популярных имен, начинающихся на R, за 1950 год."
   ]
  },
  {
   "cell_type": "code",
   "execution_count": 7,
   "metadata": {
    "scrolled": true
   },
   "outputs": [
    {
     "data": {
      "text/plain": [
       "<matplotlib.axes._subplots.AxesSubplot at 0x1a2719aba8>"
      ]
     },
     "execution_count": 7,
     "metadata": {},
     "output_type": "execute_result"
    },
    {
     "data": {
      "image/png": "[encoded data removed]",
      "text/plain": [
       "<Figure size 432x432 with 1 Axes>"
      ]
     },
     "metadata": {},
     "output_type": "display_data"
    }
   ],
   "source": [
    "names_3 = names.loc['1950'].sort_values('number', ascending=False)\n",
    "names_3 = names_3[names_3.name.str.startswith('R')].head(10).set_index(['name'])\n",
    "\n",
    "names_3.plot(kind='pie', y='number', startangle=30, autopct='%d', figsize=(6, 6), legend=False)"
   ]
  },
  {
   "cell_type": "markdown",
   "metadata": {},
   "source": [
    "**Задача 4.** Построить точечную диаграмму по количеству согласных букв в именах и частоте употребления за 100 лет. Т.е. необходимо сложить всю статистику с 1900 до 2000, сгруппировать по именам, посчитать количество согласных букв в каждом имени и вывести на график отношение \"Количество согласных букв в имени\" : \"Количество употреблений\"."
   ]
  },
  {
   "cell_type": "code",
   "execution_count": 8,
   "metadata": {},
   "outputs": [],
   "source": [
    "names_4 = names.loc[range(1900,2001)]\n",
    "names_4 = names_4.groupby(['name']).sum()\n",
    "names_4.reset_index(inplace=True)"
   ]
  },
  {
   "cell_type": "code",
   "execution_count": 9,
   "metadata": {},
   "outputs": [
    {
     "data": {
      "text/plain": [
       "<seaborn.axisgrid.FacetGrid at 0x1a2788f2e8>"
      ]
     },
     "execution_count": 9,
     "metadata": {},
     "output_type": "execute_result"
    },
    {
     "data": {
      "image/png": "[encoded data removed]",
      "text/plain": [
       "<Figure size 360x360 with 1 Axes>"
      ]
     },
     "metadata": {
      "needs_background": "light"
     },
     "output_type": "display_data"
    }
   ],
   "source": [
    "vowels = list('AEIOUYaeiouy')\n",
    "names_4['consonants'] = names_4.apply(lambda x: sum(i not in vowels for i in x['name']), axis=1)\n",
    "\n",
    "sns.relplot(x='number', y='consonants', data=names_4)"
   ]
  }
 ],
 "metadata": {
  "kernelspec": {
   "display_name": "Python 3",
   "language": "python",
   "name": "python3"
  },
  "language_info": {
   "codemirror_mode": {
    "name": "ipython",
    "version": 3
   },
   "file_extension": ".py",
   "mimetype": "text/x-python",
   "name": "python",
   "nbconvert_exporter": "python",
   "pygments_lexer": "ipython3",
   "version": "3.7.3"
  }
 },
 "nbformat": 4,
 "nbformat_minor": 2
}
